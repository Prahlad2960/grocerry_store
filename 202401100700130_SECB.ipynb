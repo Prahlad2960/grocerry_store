{
  "nbformat": 4,
  "nbformat_minor": 0,
  "metadata": {
    "colab": {
      "provenance": []
    },
    "kernelspec": {
      "name": "python3",
      "display_name": "Python 3"
    },
    "language_info": {
      "name": "python"
    }
  },
  "cells": [
    {
      "cell_type": "markdown",
      "source": [
        "CASE STUDY -1 GROCERY STORE CALCULATOR"
      ],
      "metadata": {
        "id": "et4MG-IaQ8jx"
      }
    },
    {
      "cell_type": "code",
      "source": [
        "print(\"Jain store\")\n",
        "print(\"enter the name of the items\")\n",
        "item1=input()\n",
        "rice=50\n",
        "wheat=68\n",
        "pulse=90\n",
        "tea=34\n",
        "milk=60\n",
        "print(\"enter the name of the items\")\n",
        "item3=input()\n",
        "print(\"enter the quantity of the items in kg\")\n",
        "quantity3=int(input())\n",
        "print(\"the total price is:\")\n",
        "print(pulse*quantity3)\n",
        "print(\"enter the quantity of the items i kg\")\n",
        "quantity3=int(input())\n",
        "print(\"the total price is :\")\n",
        "print(pulse*quantity3)"
      ],
      "metadata": {
        "colab": {
          "base_uri": "https://localhost:8080/"
        },
        "id": "u0U35omGWHKG",
        "outputId": "21da33e0-319c-47a1-c50a-f93d0cae9752"
      },
      "execution_count": null,
      "outputs": [
        {
          "output_type": "stream",
          "name": "stdout",
          "text": [
            "Jain store\n",
            "enter the name of the items\n",
            "pulse\n",
            "enter the name of the items\n",
            "rice\n",
            "enter the quantity of the items in kg\n",
            "3\n",
            "the total price is:\n",
            "270\n",
            "enter the quantity of the items i kg\n"
          ]
        }
      ]
    },
    {
      "cell_type": "code",
      "source": [],
      "metadata": {
        "id": "MydIeC8fWKRL"
      },
      "execution_count": null,
      "outputs": []
    }
  ]
}